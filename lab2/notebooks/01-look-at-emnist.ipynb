{
 "cells": [
  {
   "cell_type": "markdown",
   "metadata": {},
   "source": [
    "# Looking at EMNIST data"
   ]
  },
  {
   "cell_type": "code",
   "execution_count": 1,
   "metadata": {},
   "outputs": [],
   "source": [
    "%load_ext autoreload\n",
    "%autoreload 2\n",
    "\n",
    "%matplotlib inline\n",
    "import matplotlib.pyplot as plt\n",
    "import numpy as np\n",
    "\n",
    "from importlib.util import find_spec\n",
    "if find_spec(\"text_recognizer\") is None:\n",
    "    import sys\n",
    "    sys.path.append('..')\n",
    "\n",
    "from text_recognizer.data.emnist import EMNIST"
   ]
  },
  {
   "cell_type": "code",
   "execution_count": 2,
   "metadata": {},
   "outputs": [
    {
     "name": "stdout",
     "output_type": "stream",
     "text": [
      "EMNIST Dataset\n",
      "Num classes: 83\n",
      "Mapping: ['<B>', '<S>', '<E>', '<P>', '0', '1', '2', '3', '4', '5', '6', '7', '8', '9', 'A', 'B', 'C', 'D', 'E', 'F', 'G', 'H', 'I', 'J', 'K', 'L', 'M', 'N', 'O', 'P', 'Q', 'R', 'S', 'T', 'U', 'V', 'W', 'X', 'Y', 'Z', 'a', 'b', 'c', 'd', 'e', 'f', 'g', 'h', 'i', 'j', 'k', 'l', 'm', 'n', 'o', 'p', 'q', 'r', 's', 't', 'u', 'v', 'w', 'x', 'y', 'z', ' ', '!', '\"', '#', '&', \"'\", '(', ')', '*', '+', ',', '-', '.', '/', ':', ';', '?']\n",
      "Dims: (1, 28, 28)\n",
      "Train/val/test sizes: 260212, 65054, 53988\n",
      "Batch x stats: (torch.Size([128, 1, 28, 28]), torch.float32, tensor(0.), tensor(0.1656), tensor(0.3257), tensor(1.))\n",
      "Batch y stats: (torch.Size([128]), torch.int64, tensor(4), tensor(65))\n",
      "\n"
     ]
    }
   ],
   "source": [
    "data = EMNIST()\n",
    "data.prepare_data()\n",
    "data.setup()\n",
    "print(data)"
   ]
  },
  {
   "cell_type": "code",
   "execution_count": 3,
   "metadata": {},
   "outputs": [
    {
     "name": "stdout",
     "output_type": "stream",
     "text": [
      "torch.Size([128, 1, 28, 28]) torch.float32 tensor(0.) tensor(0.2215) tensor(0.3603) tensor(1.)\n",
      "torch.Size([128]) torch.int64 tensor(4) tensor(4)\n"
     ]
    }
   ],
   "source": [
    "x, y = next(iter(data.test_dataloader()))\n",
    "print(x.shape, x.dtype, x.min(), x.mean(), x.std(), x.max())\n",
    "print(y.shape, y.dtype, y.min(), y.max())"
   ]
  },
  {
   "cell_type": "code",
   "execution_count": 4,
   "metadata": {
    "scrolled": true
   },
   "outputs": [
    {
     "data": {
      "image/png": "[encoded data removed]",
      "text/plain": [
       "<Figure size 648x648 with 9 Axes>"
      ]
     },
     "metadata": {
      "needs_background": "light"
     },
     "output_type": "display_data"
    }
   ],
   "source": [
    "fig = plt.figure(figsize=(9, 9))\n",
    "for i in range(9):\n",
    "    ax = fig.add_subplot(3, 3, i + 1)\n",
    "    rand_i = np.random.randint(len(data.data_test))\n",
    "    image, label = data.data_test[rand_i]\n",
    "    ax.imshow(image.reshape(28, 28), cmap='gray')\n",
    "    ax.set_title(data.mapping[label])"
   ]
  },
  {
   "cell_type": "markdown",
   "metadata": {},
   "source": [
    "## Train a CNN model"
   ]
  },
  {
   "cell_type": "code",
   "execution_count": 5,
   "metadata": {},
   "outputs": [
    {
     "name": "stderr",
     "output_type": "stream",
     "text": [
      "GPU available: True, used: True\n",
      "TPU available: None, using: 0 TPU cores\n",
      "LOCAL_RANK: 0 - CUDA_VISIBLE_DEVICES: [0]\n",
      "\n",
      "  | Name      | Type     | Params\n",
      "---------------------------------------\n",
      "0 | model     | CNN      | 1.7 M \n",
      "1 | train_acc | Accuracy | 0     \n",
      "2 | val_acc   | Accuracy | 0     \n",
      "3 | test_acc  | Accuracy | 0     \n",
      "---------------------------------------\n",
      "1.7 M     Trainable params\n",
      "0         Non-trainable params\n",
      "1.7 M     Total params\n"
     ]
    },
    {
     "name": "stdout",
     "output_type": "stream",
     "text": [
      "Epoch 0:   0%|          | 5/2542 [00:00<01:00, 41.63it/s, loss=7.04, v_num=6, val_loss=4.43, val_acc=0.0117]"
     ]
    },
    {
     "name": "stderr",
     "output_type": "stream",
     "text": [
      "/home/ncondo/anaconda3/envs/fsdl-text-recognizer-2021/lib/python3.6/site-packages/pytorch_lightning/utilities/distributed.py:49: UserWarning: The dataloader, val dataloader 0, does not have many workers which may be a bottleneck. Consider increasing the value of the `num_workers` argument` (try 12 which is the number of cpus on this machine) in the `DataLoader` init to improve performance.\n",
      "  warnings.warn(*args, **kwargs)\n",
      "/home/ncondo/anaconda3/envs/fsdl-text-recognizer-2021/lib/python3.6/site-packages/pytorch_lightning/utilities/distributed.py:49: UserWarning: The dataloader, train dataloader, does not have many workers which may be a bottleneck. Consider increasing the value of the `num_workers` argument` (try 12 which is the number of cpus on this machine) in the `DataLoader` init to improve performance.\n",
      "  warnings.warn(*args, **kwargs)\n"
     ]
    },
    {
     "name": "stdout",
     "output_type": "stream",
     "text": [
      "Epoch 0:  80%|███████▉  | 2033/2542 [00:40<00:10, 50.06it/s, loss=0.61, v_num=6, val_loss=4.43, val_acc=0.0117] \n",
      "Epoch 0:  80%|████████  | 2043/2542 [00:40<00:09, 50.22it/s, loss=0.61, v_num=6, val_loss=4.43, val_acc=0.0117]\n",
      "Epoch 0:  81%|████████  | 2057/2542 [00:40<00:09, 50.43it/s, loss=0.61, v_num=6, val_loss=4.43, val_acc=0.0117]\n",
      "Epoch 0:  81%|████████▏ | 2071/2542 [00:40<00:09, 50.65it/s, loss=0.61, v_num=6, val_loss=4.43, val_acc=0.0117]\n",
      "Epoch 0:  82%|████████▏ | 2085/2542 [00:40<00:08, 50.85it/s, loss=0.61, v_num=6, val_loss=4.43, val_acc=0.0117]\n",
      "Epoch 0:  83%|████████▎ | 2099/2542 [00:41<00:08, 51.06it/s, loss=0.61, v_num=6, val_loss=4.43, val_acc=0.0117]\n",
      "Epoch 0:  83%|████████▎ | 2113/2542 [00:41<00:08, 51.27it/s, loss=0.61, v_num=6, val_loss=4.43, val_acc=0.0117]\n",
      "Epoch 0:  84%|████████▎ | 2127/2542 [00:41<00:08, 51.48it/s, loss=0.61, v_num=6, val_loss=4.43, val_acc=0.0117]\n",
      "Epoch 0:  84%|████████▍ | 2141/2542 [00:41<00:07, 51.69it/s, loss=0.61, v_num=6, val_loss=4.43, val_acc=0.0117]\n",
      "Epoch 0:  85%|████████▍ | 2155/2542 [00:41<00:07, 51.89it/s, loss=0.61, v_num=6, val_loss=4.43, val_acc=0.0117]\n",
      "Epoch 0:  85%|████████▌ | 2169/2542 [00:41<00:07, 52.09it/s, loss=0.61, v_num=6, val_loss=4.43, val_acc=0.0117]\n",
      "Epoch 0:  86%|████████▌ | 2183/2542 [00:41<00:06, 52.30it/s, loss=0.61, v_num=6, val_loss=4.43, val_acc=0.0117]\n",
      "Epoch 0:  86%|████████▋ | 2197/2542 [00:41<00:06, 52.50it/s, loss=0.61, v_num=6, val_loss=4.43, val_acc=0.0117]\n",
      "Epoch 0:  87%|████████▋ | 2211/2542 [00:41<00:06, 52.70it/s, loss=0.61, v_num=6, val_loss=4.43, val_acc=0.0117]\n",
      "Epoch 0:  88%|████████▊ | 2225/2542 [00:42<00:05, 52.90it/s, loss=0.61, v_num=6, val_loss=4.43, val_acc=0.0117]\n",
      "Epoch 0:  88%|████████▊ | 2239/2542 [00:42<00:05, 53.10it/s, loss=0.61, v_num=6, val_loss=4.43, val_acc=0.0117]\n",
      "Epoch 0:  89%|████████▊ | 2253/2542 [00:42<00:05, 53.30it/s, loss=0.61, v_num=6, val_loss=4.43, val_acc=0.0117]\n",
      "Epoch 0:  89%|████████▉ | 2267/2542 [00:42<00:05, 53.50it/s, loss=0.61, v_num=6, val_loss=4.43, val_acc=0.0117]\n",
      "Epoch 0:  90%|████████▉ | 2281/2542 [00:42<00:04, 53.70it/s, loss=0.61, v_num=6, val_loss=4.43, val_acc=0.0117]\n",
      "Epoch 0:  90%|█████████ | 2295/2542 [00:42<00:04, 53.89it/s, loss=0.61, v_num=6, val_loss=4.43, val_acc=0.0117]\n",
      "Epoch 0:  91%|█████████ | 2309/2542 [00:42<00:04, 54.08it/s, loss=0.61, v_num=6, val_loss=4.43, val_acc=0.0117]\n",
      "Epoch 0:  91%|█████████▏| 2323/2542 [00:42<00:04, 54.27it/s, loss=0.61, v_num=6, val_loss=4.43, val_acc=0.0117]\n",
      "Epoch 0:  92%|█████████▏| 2337/2542 [00:42<00:03, 54.46it/s, loss=0.61, v_num=6, val_loss=4.43, val_acc=0.0117]\n",
      "Epoch 0:  92%|█████████▏| 2351/2542 [00:43<00:03, 54.66it/s, loss=0.61, v_num=6, val_loss=4.43, val_acc=0.0117]\n",
      "Epoch 0:  93%|█████████▎| 2365/2542 [00:43<00:03, 54.85it/s, loss=0.61, v_num=6, val_loss=4.43, val_acc=0.0117]\n",
      "Epoch 0:  94%|█████████▎| 2379/2542 [00:43<00:02, 55.04it/s, loss=0.61, v_num=6, val_loss=4.43, val_acc=0.0117]\n",
      "Epoch 0:  94%|█████████▍| 2393/2542 [00:43<00:02, 55.22it/s, loss=0.61, v_num=6, val_loss=4.43, val_acc=0.0117]\n",
      "Epoch 0:  95%|█████████▍| 2407/2542 [00:43<00:02, 55.41it/s, loss=0.61, v_num=6, val_loss=4.43, val_acc=0.0117]\n",
      "Epoch 0:  95%|█████████▌| 2421/2542 [00:43<00:02, 55.60it/s, loss=0.61, v_num=6, val_loss=4.43, val_acc=0.0117]\n",
      "Epoch 0:  96%|█████████▌| 2435/2542 [00:43<00:01, 55.78it/s, loss=0.61, v_num=6, val_loss=4.43, val_acc=0.0117]\n",
      "Epoch 0:  96%|█████████▋| 2449/2542 [00:43<00:01, 55.96it/s, loss=0.61, v_num=6, val_loss=4.43, val_acc=0.0117]\n",
      "Epoch 0:  97%|█████████▋| 2463/2542 [00:43<00:01, 56.15it/s, loss=0.61, v_num=6, val_loss=4.43, val_acc=0.0117]\n",
      "Epoch 0:  97%|█████████▋| 2477/2542 [00:43<00:01, 56.33it/s, loss=0.61, v_num=6, val_loss=4.43, val_acc=0.0117]\n",
      "Epoch 0:  98%|█████████▊| 2491/2542 [00:44<00:00, 56.51it/s, loss=0.61, v_num=6, val_loss=4.43, val_acc=0.0117]\n",
      "Epoch 0:  99%|█████████▊| 2505/2542 [00:44<00:00, 56.69it/s, loss=0.61, v_num=6, val_loss=4.43, val_acc=0.0117]\n",
      "Epoch 0:  99%|█████████▉| 2519/2542 [00:44<00:00, 56.87it/s, loss=0.61, v_num=6, val_loss=4.43, val_acc=0.0117]\n",
      "Epoch 0: 100%|█████████▉| 2533/2542 [00:44<00:00, 57.05it/s, loss=0.61, v_num=6, val_loss=4.43, val_acc=0.0117]\n",
      "Epoch 0: 100%|██████████| 2542/2542 [00:44<00:00, 57.10it/s, loss=0.61, v_num=6, val_loss=0.61, val_acc=0.778] \n",
      "Epoch 1:  80%|███████▉  | 2033/2542 [00:41<00:10, 49.07it/s, loss=0.543, v_num=6, val_loss=0.61, val_acc=0.778]\n",
      "Epoch 1:  80%|████████  | 2044/2542 [00:41<00:10, 49.24it/s, loss=0.543, v_num=6, val_loss=0.61, val_acc=0.778]\n",
      "Epoch 1:  81%|████████  | 2058/2542 [00:41<00:09, 49.45it/s, loss=0.543, v_num=6, val_loss=0.61, val_acc=0.778]\n",
      "Epoch 1:  82%|████████▏ | 2072/2542 [00:41<00:09, 49.67it/s, loss=0.543, v_num=6, val_loss=0.61, val_acc=0.778]\n",
      "Epoch 1:  82%|████████▏ | 2086/2542 [00:41<00:09, 49.87it/s, loss=0.543, v_num=6, val_loss=0.61, val_acc=0.778]\n",
      "Epoch 1:  83%|████████▎ | 2100/2542 [00:41<00:08, 50.08it/s, loss=0.543, v_num=6, val_loss=0.61, val_acc=0.778]\n",
      "Epoch 1:  83%|████████▎ | 2114/2542 [00:42<00:08, 50.28it/s, loss=0.543, v_num=6, val_loss=0.61, val_acc=0.778]\n",
      "Epoch 1:  84%|████████▎ | 2128/2542 [00:42<00:08, 50.49it/s, loss=0.543, v_num=6, val_loss=0.61, val_acc=0.778]\n",
      "Epoch 1:  84%|████████▍ | 2142/2542 [00:42<00:07, 50.69it/s, loss=0.543, v_num=6, val_loss=0.61, val_acc=0.778]\n",
      "Epoch 1:  85%|████████▍ | 2156/2542 [00:42<00:07, 50.89it/s, loss=0.543, v_num=6, val_loss=0.61, val_acc=0.778]\n",
      "Epoch 1:  85%|████████▌ | 2170/2542 [00:42<00:07, 51.09it/s, loss=0.543, v_num=6, val_loss=0.61, val_acc=0.778]\n",
      "Epoch 1:  86%|████████▌ | 2184/2542 [00:42<00:06, 51.29it/s, loss=0.543, v_num=6, val_loss=0.61, val_acc=0.778]\n",
      "Epoch 1:  86%|████████▋ | 2198/2542 [00:42<00:06, 51.49it/s, loss=0.543, v_num=6, val_loss=0.61, val_acc=0.778]\n",
      "Epoch 1:  87%|████████▋ | 2212/2542 [00:42<00:06, 51.69it/s, loss=0.543, v_num=6, val_loss=0.61, val_acc=0.778]\n",
      "Epoch 1:  88%|████████▊ | 2226/2542 [00:42<00:06, 51.89it/s, loss=0.543, v_num=6, val_loss=0.61, val_acc=0.778]\n",
      "Epoch 1:  88%|████████▊ | 2240/2542 [00:42<00:05, 52.09it/s, loss=0.543, v_num=6, val_loss=0.61, val_acc=0.778]\n",
      "Epoch 1:  89%|████████▊ | 2254/2542 [00:43<00:05, 52.29it/s, loss=0.543, v_num=6, val_loss=0.61, val_acc=0.778]\n",
      "Epoch 1:  89%|████████▉ | 2268/2542 [00:43<00:05, 52.49it/s, loss=0.543, v_num=6, val_loss=0.61, val_acc=0.778]\n",
      "Epoch 1:  90%|████████▉ | 2282/2542 [00:43<00:04, 52.68it/s, loss=0.543, v_num=6, val_loss=0.61, val_acc=0.778]\n",
      "Epoch 1:  90%|█████████ | 2296/2542 [00:43<00:04, 52.88it/s, loss=0.543, v_num=6, val_loss=0.61, val_acc=0.778]\n",
      "Epoch 1:  91%|█████████ | 2310/2542 [00:43<00:04, 53.07it/s, loss=0.543, v_num=6, val_loss=0.61, val_acc=0.778]\n",
      "Epoch 1:  91%|█████████▏| 2324/2542 [00:43<00:04, 53.27it/s, loss=0.543, v_num=6, val_loss=0.61, val_acc=0.778]\n",
      "Epoch 1:  92%|█████████▏| 2338/2542 [00:43<00:03, 53.46it/s, loss=0.543, v_num=6, val_loss=0.61, val_acc=0.778]\n",
      "Epoch 1:  93%|█████████▎| 2352/2542 [00:43<00:03, 53.65it/s, loss=0.543, v_num=6, val_loss=0.61, val_acc=0.778]\n",
      "Epoch 1:  93%|█████████▎| 2366/2542 [00:43<00:03, 53.84it/s, loss=0.543, v_num=6, val_loss=0.61, val_acc=0.778]\n",
      "Epoch 1:  94%|█████████▎| 2380/2542 [00:44<00:02, 54.03it/s, loss=0.543, v_num=6, val_loss=0.61, val_acc=0.778]\n",
      "Epoch 1:  94%|█████████▍| 2394/2542 [00:44<00:02, 54.21it/s, loss=0.543, v_num=6, val_loss=0.61, val_acc=0.778]\n",
      "Epoch 1:  95%|█████████▍| 2408/2542 [00:44<00:02, 54.40it/s, loss=0.543, v_num=6, val_loss=0.61, val_acc=0.778]\n",
      "Epoch 1:  95%|█████████▌| 2422/2542 [00:44<00:02, 54.59it/s, loss=0.543, v_num=6, val_loss=0.61, val_acc=0.778]\n",
      "Epoch 1:  96%|█████████▌| 2436/2542 [00:44<00:01, 54.78it/s, loss=0.543, v_num=6, val_loss=0.61, val_acc=0.778]\n",
      "Epoch 1:  96%|█████████▋| 2450/2542 [00:44<00:01, 54.96it/s, loss=0.543, v_num=6, val_loss=0.61, val_acc=0.778]\n",
      "Epoch 1:  97%|█████████▋| 2464/2542 [00:44<00:01, 55.14it/s, loss=0.543, v_num=6, val_loss=0.61, val_acc=0.778]\n",
      "Epoch 1:  97%|█████████▋| 2478/2542 [00:44<00:01, 55.32it/s, loss=0.543, v_num=6, val_loss=0.61, val_acc=0.778]\n",
      "Epoch 1:  98%|█████████▊| 2492/2542 [00:44<00:00, 55.50it/s, loss=0.543, v_num=6, val_loss=0.61, val_acc=0.778]\n",
      "Epoch 1:  99%|█████████▊| 2506/2542 [00:45<00:00, 55.68it/s, loss=0.543, v_num=6, val_loss=0.61, val_acc=0.778]\n"
     ]
    },
    {
     "name": "stdout",
     "output_type": "stream",
     "text": [
      "Epoch 1:  99%|█████████▉| 2520/2542 [00:45<00:00, 55.86it/s, loss=0.543, v_num=6, val_loss=0.61, val_acc=0.778]\n",
      "Epoch 1: 100%|█████████▉| 2534/2542 [00:45<00:00, 56.04it/s, loss=0.543, v_num=6, val_loss=0.61, val_acc=0.778]\n",
      "Epoch 1: 100%|██████████| 2542/2542 [00:45<00:00, 56.09it/s, loss=0.543, v_num=6, val_loss=0.565, val_acc=0.79]\n",
      "Epoch 2:  80%|███████▉  | 2033/2542 [00:40<00:10, 50.40it/s, loss=0.504, v_num=6, val_loss=0.565, val_acc=0.79]\n",
      "Epoch 2:  80%|████████  | 2044/2542 [00:40<00:09, 50.57it/s, loss=0.504, v_num=6, val_loss=0.565, val_acc=0.79]\n",
      "Epoch 2:  81%|████████  | 2058/2542 [00:40<00:09, 50.79it/s, loss=0.504, v_num=6, val_loss=0.565, val_acc=0.79]\n",
      "Epoch 2:  82%|████████▏ | 2072/2542 [00:40<00:09, 51.00it/s, loss=0.504, v_num=6, val_loss=0.565, val_acc=0.79]\n",
      "Epoch 2:  82%|████████▏ | 2086/2542 [00:40<00:08, 51.22it/s, loss=0.504, v_num=6, val_loss=0.565, val_acc=0.79]\n",
      "Epoch 2:  83%|████████▎ | 2100/2542 [00:40<00:08, 51.43it/s, loss=0.504, v_num=6, val_loss=0.565, val_acc=0.79]\n",
      "Epoch 2:  83%|████████▎ | 2114/2542 [00:40<00:08, 51.65it/s, loss=0.504, v_num=6, val_loss=0.565, val_acc=0.79]\n",
      "Epoch 2:  84%|████████▎ | 2128/2542 [00:41<00:07, 51.86it/s, loss=0.504, v_num=6, val_loss=0.565, val_acc=0.79]\n",
      "Epoch 2:  84%|████████▍ | 2142/2542 [00:41<00:07, 52.07it/s, loss=0.504, v_num=6, val_loss=0.565, val_acc=0.79]\n",
      "Epoch 2:  85%|████████▍ | 2156/2542 [00:41<00:07, 52.27it/s, loss=0.504, v_num=6, val_loss=0.565, val_acc=0.79]\n",
      "Epoch 2:  85%|████████▌ | 2170/2542 [00:41<00:07, 52.48it/s, loss=0.504, v_num=6, val_loss=0.565, val_acc=0.79]\n",
      "Epoch 2:  86%|████████▌ | 2184/2542 [00:41<00:06, 52.69it/s, loss=0.504, v_num=6, val_loss=0.565, val_acc=0.79]\n",
      "Epoch 2:  86%|████████▋ | 2198/2542 [00:41<00:06, 52.88it/s, loss=0.504, v_num=6, val_loss=0.565, val_acc=0.79]\n",
      "Epoch 2:  87%|████████▋ | 2212/2542 [00:41<00:06, 53.09it/s, loss=0.504, v_num=6, val_loss=0.565, val_acc=0.79]\n",
      "Epoch 2:  88%|████████▊ | 2226/2542 [00:41<00:05, 53.29it/s, loss=0.504, v_num=6, val_loss=0.565, val_acc=0.79]\n",
      "Epoch 2:  88%|████████▊ | 2240/2542 [00:41<00:05, 53.50it/s, loss=0.504, v_num=6, val_loss=0.565, val_acc=0.79]\n",
      "Epoch 2:  89%|████████▊ | 2254/2542 [00:41<00:05, 53.69it/s, loss=0.504, v_num=6, val_loss=0.565, val_acc=0.79]\n",
      "Epoch 2:  89%|████████▉ | 2268/2542 [00:42<00:05, 53.89it/s, loss=0.504, v_num=6, val_loss=0.565, val_acc=0.79]\n",
      "Epoch 2:  90%|████████▉ | 2282/2542 [00:42<00:04, 54.09it/s, loss=0.504, v_num=6, val_loss=0.565, val_acc=0.79]\n",
      "Epoch 2:  90%|█████████ | 2296/2542 [00:42<00:04, 54.29it/s, loss=0.504, v_num=6, val_loss=0.565, val_acc=0.79]\n",
      "Epoch 2:  91%|█████████ | 2310/2542 [00:42<00:04, 54.48it/s, loss=0.504, v_num=6, val_loss=0.565, val_acc=0.79]\n",
      "Epoch 2:  91%|█████████▏| 2324/2542 [00:42<00:03, 54.68it/s, loss=0.504, v_num=6, val_loss=0.565, val_acc=0.79]\n",
      "Epoch 2:  92%|█████████▏| 2338/2542 [00:42<00:03, 54.87it/s, loss=0.504, v_num=6, val_loss=0.565, val_acc=0.79]\n",
      "Epoch 2:  93%|█████████▎| 2352/2542 [00:42<00:03, 55.05it/s, loss=0.504, v_num=6, val_loss=0.565, val_acc=0.79]\n",
      "Epoch 2:  93%|█████████▎| 2366/2542 [00:42<00:03, 55.23it/s, loss=0.504, v_num=6, val_loss=0.565, val_acc=0.79]\n",
      "Epoch 2:  94%|█████████▎| 2380/2542 [00:42<00:02, 55.41it/s, loss=0.504, v_num=6, val_loss=0.565, val_acc=0.79]\n",
      "Epoch 2:  94%|█████████▍| 2394/2542 [00:43<00:02, 55.60it/s, loss=0.504, v_num=6, val_loss=0.565, val_acc=0.79]\n",
      "Epoch 2:  95%|█████████▍| 2408/2542 [00:43<00:02, 55.79it/s, loss=0.504, v_num=6, val_loss=0.565, val_acc=0.79]\n",
      "Validating:  74%|███████▎  | 375/509 [00:02<00:01, 129.50it/s]\u001b[A\n",
      "Epoch 2:  95%|█████████▌| 2422/2542 [00:43<00:02, 55.96it/s, loss=0.504, v_num=6, val_loss=0.565, val_acc=0.79]\n",
      "Epoch 2:  96%|█████████▌| 2436/2542 [00:43<00:01, 56.13it/s, loss=0.504, v_num=6, val_loss=0.565, val_acc=0.79]\n",
      "Epoch 2:  96%|█████████▋| 2450/2542 [00:43<00:01, 56.32it/s, loss=0.504, v_num=6, val_loss=0.565, val_acc=0.79]\n",
      "Epoch 2:  97%|█████████▋| 2464/2542 [00:43<00:01, 56.51it/s, loss=0.504, v_num=6, val_loss=0.565, val_acc=0.79]\n",
      "Epoch 2:  97%|█████████▋| 2478/2542 [00:43<00:01, 56.69it/s, loss=0.504, v_num=6, val_loss=0.565, val_acc=0.79]\n",
      "Epoch 2:  98%|█████████▊| 2492/2542 [00:43<00:00, 56.87it/s, loss=0.504, v_num=6, val_loss=0.565, val_acc=0.79]\n",
      "Epoch 2:  99%|█████████▊| 2506/2542 [00:43<00:00, 57.03it/s, loss=0.504, v_num=6, val_loss=0.565, val_acc=0.79]\n",
      "Epoch 2:  99%|█████████▉| 2520/2542 [00:44<00:00, 57.21it/s, loss=0.504, v_num=6, val_loss=0.565, val_acc=0.79]\n",
      "Epoch 2: 100%|██████████| 2542/2542 [00:44<00:00, 57.45it/s, loss=0.504, v_num=6, val_loss=0.541, val_acc=0.799]\n",
      "Epoch 3:  80%|███████▉  | 2033/2542 [00:41<00:10, 48.64it/s, loss=0.488, v_num=6, val_loss=0.541, val_acc=0.799]\n",
      "Epoch 3:  80%|████████  | 2044/2542 [00:41<00:10, 48.82it/s, loss=0.488, v_num=6, val_loss=0.541, val_acc=0.799]\n",
      "Epoch 3:  81%|████████  | 2058/2542 [00:41<00:09, 49.03it/s, loss=0.488, v_num=6, val_loss=0.541, val_acc=0.799]\n",
      "Epoch 3:  82%|████████▏ | 2072/2542 [00:42<00:09, 49.24it/s, loss=0.488, v_num=6, val_loss=0.541, val_acc=0.799]\n",
      "Epoch 3:  82%|████████▏ | 2086/2542 [00:42<00:09, 49.45it/s, loss=0.488, v_num=6, val_loss=0.541, val_acc=0.799]\n",
      "Epoch 3:  83%|████████▎ | 2100/2542 [00:42<00:08, 49.66it/s, loss=0.488, v_num=6, val_loss=0.541, val_acc=0.799]\n",
      "Epoch 3:  83%|████████▎ | 2114/2542 [00:42<00:08, 49.87it/s, loss=0.488, v_num=6, val_loss=0.541, val_acc=0.799]\n",
      "Epoch 3:  84%|████████▎ | 2128/2542 [00:42<00:08, 50.07it/s, loss=0.488, v_num=6, val_loss=0.541, val_acc=0.799]\n",
      "Epoch 3:  84%|████████▍ | 2142/2542 [00:42<00:07, 50.27it/s, loss=0.488, v_num=6, val_loss=0.541, val_acc=0.799]\n",
      "Epoch 3:  85%|████████▍ | 2156/2542 [00:42<00:07, 50.48it/s, loss=0.488, v_num=6, val_loss=0.541, val_acc=0.799]\n",
      "Epoch 3:  85%|████████▌ | 2170/2542 [00:42<00:07, 50.68it/s, loss=0.488, v_num=6, val_loss=0.541, val_acc=0.799]\n",
      "Epoch 3:  86%|████████▌ | 2184/2542 [00:42<00:07, 50.88it/s, loss=0.488, v_num=6, val_loss=0.541, val_acc=0.799]\n",
      "Epoch 3:  86%|████████▋ | 2198/2542 [00:43<00:06, 51.08it/s, loss=0.488, v_num=6, val_loss=0.541, val_acc=0.799]\n",
      "Epoch 3:  87%|████████▋ | 2212/2542 [00:43<00:06, 51.28it/s, loss=0.488, v_num=6, val_loss=0.541, val_acc=0.799]\n",
      "Epoch 3:  88%|████████▊ | 2226/2542 [00:43<00:06, 51.48it/s, loss=0.488, v_num=6, val_loss=0.541, val_acc=0.799]\n",
      "Epoch 3:  88%|████████▊ | 2240/2542 [00:43<00:05, 51.68it/s, loss=0.488, v_num=6, val_loss=0.541, val_acc=0.799]\n",
      "Epoch 3:  89%|████████▊ | 2254/2542 [00:43<00:05, 51.87it/s, loss=0.488, v_num=6, val_loss=0.541, val_acc=0.799]\n",
      "Epoch 3:  89%|████████▉ | 2268/2542 [00:43<00:05, 52.07it/s, loss=0.488, v_num=6, val_loss=0.541, val_acc=0.799]\n",
      "Epoch 3:  90%|████████▉ | 2282/2542 [00:43<00:04, 52.27it/s, loss=0.488, v_num=6, val_loss=0.541, val_acc=0.799]\n",
      "Epoch 3:  90%|█████████ | 2296/2542 [00:43<00:04, 52.46it/s, loss=0.488, v_num=6, val_loss=0.541, val_acc=0.799]\n",
      "Epoch 3:  91%|█████████ | 2310/2542 [00:43<00:04, 52.65it/s, loss=0.488, v_num=6, val_loss=0.541, val_acc=0.799]\n",
      "Epoch 3:  91%|█████████▏| 2324/2542 [00:43<00:04, 52.85it/s, loss=0.488, v_num=6, val_loss=0.541, val_acc=0.799]\n",
      "Epoch 3:  92%|█████████▏| 2338/2542 [00:44<00:03, 53.04it/s, loss=0.488, v_num=6, val_loss=0.541, val_acc=0.799]\n",
      "Epoch 3:  93%|█████████▎| 2352/2542 [00:44<00:03, 53.23it/s, loss=0.488, v_num=6, val_loss=0.541, val_acc=0.799]\n",
      "Epoch 3:  93%|█████████▎| 2366/2542 [00:44<00:03, 53.42it/s, loss=0.488, v_num=6, val_loss=0.541, val_acc=0.799]\n",
      "Epoch 3:  94%|█████████▎| 2380/2542 [00:44<00:03, 53.61it/s, loss=0.488, v_num=6, val_loss=0.541, val_acc=0.799]\n",
      "Epoch 3:  94%|█████████▍| 2394/2542 [00:44<00:02, 53.80it/s, loss=0.488, v_num=6, val_loss=0.541, val_acc=0.799]\n",
      "Epoch 3:  95%|█████████▍| 2408/2542 [00:44<00:02, 53.98it/s, loss=0.488, v_num=6, val_loss=0.541, val_acc=0.799]\n",
      "Epoch 3:  95%|█████████▌| 2422/2542 [00:44<00:02, 54.17it/s, loss=0.488, v_num=6, val_loss=0.541, val_acc=0.799]\n",
      "Epoch 3:  96%|█████████▌| 2436/2542 [00:44<00:01, 54.35it/s, loss=0.488, v_num=6, val_loss=0.541, val_acc=0.799]\n",
      "Epoch 3:  96%|█████████▋| 2450/2542 [00:44<00:01, 54.54it/s, loss=0.488, v_num=6, val_loss=0.541, val_acc=0.799]\n",
      "Epoch 3:  97%|█████████▋| 2464/2542 [00:45<00:01, 54.72it/s, loss=0.488, v_num=6, val_loss=0.541, val_acc=0.799]\n"
     ]
    },
    {
     "name": "stdout",
     "output_type": "stream",
     "text": [
      "Epoch 3:  97%|█████████▋| 2478/2542 [00:45<00:01, 54.90it/s, loss=0.488, v_num=6, val_loss=0.541, val_acc=0.799]\n",
      "Epoch 3:  98%|█████████▊| 2492/2542 [00:45<00:00, 55.08it/s, loss=0.488, v_num=6, val_loss=0.541, val_acc=0.799]\n",
      "Epoch 3:  99%|█████████▊| 2506/2542 [00:45<00:00, 55.26it/s, loss=0.488, v_num=6, val_loss=0.541, val_acc=0.799]\n",
      "Epoch 3:  99%|█████████▉| 2520/2542 [00:45<00:00, 55.44it/s, loss=0.488, v_num=6, val_loss=0.541, val_acc=0.799]\n",
      "Epoch 3: 100%|█████████▉| 2534/2542 [00:45<00:00, 55.62it/s, loss=0.488, v_num=6, val_loss=0.541, val_acc=0.799]\n",
      "Epoch 3: 100%|██████████| 2542/2542 [00:45<00:00, 55.67it/s, loss=0.488, v_num=6, val_loss=0.516, val_acc=0.805]\n",
      "Epoch 4:  80%|███████▉  | 2033/2542 [00:40<00:10, 50.16it/s, loss=0.463, v_num=6, val_loss=0.516, val_acc=0.805]\n",
      "Epoch 4:  80%|████████  | 2044/2542 [00:40<00:09, 50.34it/s, loss=0.463, v_num=6, val_loss=0.516, val_acc=0.805]\n",
      "Epoch 4:  81%|████████  | 2058/2542 [00:40<00:09, 50.55it/s, loss=0.463, v_num=6, val_loss=0.516, val_acc=0.805]\n",
      "Epoch 4:  82%|████████▏ | 2072/2542 [00:40<00:09, 50.77it/s, loss=0.463, v_num=6, val_loss=0.516, val_acc=0.805]\n",
      "Epoch 4:  82%|████████▏ | 2086/2542 [00:40<00:08, 50.98it/s, loss=0.463, v_num=6, val_loss=0.516, val_acc=0.805]\n",
      "Epoch 4:  83%|████████▎ | 2100/2542 [00:41<00:08, 51.19it/s, loss=0.463, v_num=6, val_loss=0.516, val_acc=0.805]\n",
      "Epoch 4:  83%|████████▎ | 2114/2542 [00:41<00:08, 51.40it/s, loss=0.463, v_num=6, val_loss=0.516, val_acc=0.805]\n",
      "Epoch 4:  84%|████████▎ | 2128/2542 [00:41<00:08, 51.61it/s, loss=0.463, v_num=6, val_loss=0.516, val_acc=0.805]\n",
      "Epoch 4:  84%|████████▍ | 2142/2542 [00:41<00:07, 51.82it/s, loss=0.463, v_num=6, val_loss=0.516, val_acc=0.805]\n",
      "Epoch 4:  85%|████████▍ | 2156/2542 [00:41<00:07, 52.03it/s, loss=0.463, v_num=6, val_loss=0.516, val_acc=0.805]\n",
      "Epoch 4:  85%|████████▌ | 2170/2542 [00:41<00:07, 52.24it/s, loss=0.463, v_num=6, val_loss=0.516, val_acc=0.805]\n",
      "Epoch 4:  86%|████████▌ | 2184/2542 [00:41<00:06, 52.44it/s, loss=0.463, v_num=6, val_loss=0.516, val_acc=0.805]\n",
      "Epoch 4:  86%|████████▋ | 2198/2542 [00:41<00:06, 52.65it/s, loss=0.463, v_num=6, val_loss=0.516, val_acc=0.805]\n",
      "Epoch 4:  87%|████████▋ | 2212/2542 [00:41<00:06, 52.85it/s, loss=0.463, v_num=6, val_loss=0.516, val_acc=0.805]\n",
      "Epoch 4:  88%|████████▊ | 2226/2542 [00:41<00:05, 53.05it/s, loss=0.463, v_num=6, val_loss=0.516, val_acc=0.805]\n",
      "Epoch 4:  88%|████████▊ | 2240/2542 [00:42<00:05, 53.25it/s, loss=0.463, v_num=6, val_loss=0.516, val_acc=0.805]\n",
      "Epoch 4:  89%|████████▊ | 2254/2542 [00:42<00:05, 53.45it/s, loss=0.463, v_num=6, val_loss=0.516, val_acc=0.805]\n",
      "Epoch 4:  89%|████████▉ | 2268/2542 [00:42<00:05, 53.65it/s, loss=0.463, v_num=6, val_loss=0.516, val_acc=0.805]\n",
      "Epoch 4:  90%|████████▉ | 2282/2542 [00:42<00:04, 53.85it/s, loss=0.463, v_num=6, val_loss=0.516, val_acc=0.805]\n",
      "Epoch 4:  90%|█████████ | 2296/2542 [00:42<00:04, 54.05it/s, loss=0.463, v_num=6, val_loss=0.516, val_acc=0.805]\n",
      "Epoch 4:  91%|█████████ | 2310/2542 [00:42<00:04, 54.25it/s, loss=0.463, v_num=6, val_loss=0.516, val_acc=0.805]\n",
      "Epoch 4:  91%|█████████▏| 2324/2542 [00:42<00:04, 54.45it/s, loss=0.463, v_num=6, val_loss=0.516, val_acc=0.805]\n",
      "Epoch 4:  92%|█████████▏| 2338/2542 [00:42<00:03, 54.64it/s, loss=0.463, v_num=6, val_loss=0.516, val_acc=0.805]\n",
      "Epoch 4:  93%|█████████▎| 2352/2542 [00:42<00:03, 54.83it/s, loss=0.463, v_num=6, val_loss=0.516, val_acc=0.805]\n",
      "Epoch 4:  93%|█████████▎| 2366/2542 [00:42<00:03, 55.03it/s, loss=0.463, v_num=6, val_loss=0.516, val_acc=0.805]\n",
      "Epoch 4:  94%|█████████▎| 2380/2542 [00:43<00:02, 55.22it/s, loss=0.463, v_num=6, val_loss=0.516, val_acc=0.805]\n",
      "Epoch 4:  94%|█████████▍| 2394/2542 [00:43<00:02, 55.41it/s, loss=0.463, v_num=6, val_loss=0.516, val_acc=0.805]\n",
      "Epoch 4:  95%|█████████▍| 2408/2542 [00:43<00:02, 55.60it/s, loss=0.463, v_num=6, val_loss=0.516, val_acc=0.805]\n",
      "Epoch 4:  95%|█████████▌| 2422/2542 [00:43<00:02, 55.78it/s, loss=0.463, v_num=6, val_loss=0.516, val_acc=0.805]\n",
      "Epoch 4:  96%|█████████▌| 2436/2542 [00:43<00:01, 55.97it/s, loss=0.463, v_num=6, val_loss=0.516, val_acc=0.805]\n",
      "Epoch 4:  96%|█████████▋| 2450/2542 [00:43<00:01, 56.15it/s, loss=0.463, v_num=6, val_loss=0.516, val_acc=0.805]\n",
      "Epoch 4:  97%|█████████▋| 2464/2542 [00:43<00:01, 56.34it/s, loss=0.463, v_num=6, val_loss=0.516, val_acc=0.805]\n",
      "Epoch 4:  97%|█████████▋| 2478/2542 [00:43<00:01, 56.52it/s, loss=0.463, v_num=6, val_loss=0.516, val_acc=0.805]\n",
      "Epoch 4:  98%|█████████▊| 2492/2542 [00:43<00:00, 56.70it/s, loss=0.463, v_num=6, val_loss=0.516, val_acc=0.805]\n",
      "Epoch 4:  99%|█████████▊| 2506/2542 [00:44<00:00, 56.88it/s, loss=0.463, v_num=6, val_loss=0.516, val_acc=0.805]\n",
      "Epoch 4:  99%|█████████▉| 2520/2542 [00:44<00:00, 57.06it/s, loss=0.463, v_num=6, val_loss=0.516, val_acc=0.805]\n",
      "Epoch 4: 100%|█████████▉| 2534/2542 [00:44<00:00, 57.25it/s, loss=0.463, v_num=6, val_loss=0.516, val_acc=0.805]\n",
      "Epoch 4: 100%|██████████| 2542/2542 [00:44<00:00, 57.30it/s, loss=0.463, v_num=6, val_loss=0.508, val_acc=0.808]\n",
      "Epoch 4: 100%|██████████| 2542/2542 [00:44<00:00, 57.16it/s, loss=0.463, v_num=6, val_loss=0.508, val_acc=0.808]\n"
     ]
    },
    {
     "data": {
      "text/plain": [
       "1"
      ]
     },
     "execution_count": 5,
     "metadata": {},
     "output_type": "execute_result"
    }
   ],
   "source": [
    "import pytorch_lightning as pl\n",
    "from text_recognizer.models import CNN\n",
    "from text_recognizer.lit_models import BaseLitModel\n",
    "\n",
    "model = CNN(data_config=data.config())\n",
    "lit_model = BaseLitModel(model=model)\n",
    "trainer = pl.Trainer(gpus=1, max_epochs=5)\n",
    "trainer.fit(lit_model, datamodule=data)"
   ]
  },
  {
   "cell_type": "code",
   "execution_count": 6,
   "metadata": {},
   "outputs": [
    {
     "name": "stdout",
     "output_type": "stream",
     "text": [
      "torch.Size([128, 83])\n",
      "tensor([4, 4, 4, 4, 4, 4, 4, 4, 4, 4, 4, 4, 4, 4, 4, 4, 4, 4, 4, 4, 4, 4, 4, 4,\n",
      "        4, 4, 4, 4, 4, 4, 4, 4, 4, 4, 4, 4, 4, 4, 4, 4, 4, 4, 4, 4, 4, 4, 4, 4,\n",
      "        4, 4, 4, 4, 4, 4, 4, 4, 4, 4, 4, 4, 4, 4, 4, 4, 4, 4, 4, 4, 4, 4, 4, 4,\n",
      "        4, 4, 4, 4, 4, 4, 4, 4, 4, 4, 4, 4, 4, 4, 4, 4, 4, 4, 4, 4, 4, 4, 4, 4,\n",
      "        4, 4, 4, 4, 4, 4, 4, 4, 4, 4, 4, 4, 4, 4, 4, 4, 4, 4, 4, 4, 4, 4, 4, 4,\n",
      "        4, 4, 4, 4, 4, 4, 4, 4]) tensor([28, 28,  4,  4,  4,  4,  4,  4,  4, 28,  4,  4,  4,  4,  4,  4,  4,  4,\n",
      "         4, 28,  4,  4,  4,  4,  4,  4,  4,  4,  4,  4,  4,  4,  4,  4, 28,  4,\n",
      "        28, 28,  4,  4, 28, 28,  4, 28,  4,  4, 17,  4,  4,  4,  4, 28, 28,  4,\n",
      "         4, 32,  4,  4, 28,  4,  4, 28,  4, 28,  4, 28, 28, 28,  4,  4,  4,  4,\n",
      "         4, 28,  4,  4, 28,  4,  4, 28,  4,  4,  4,  4,  4,  4,  4,  4, 28,  4,\n",
      "         4,  4,  4,  4,  4, 28,  4, 20,  4, 17,  4,  4,  4,  4,  4,  4,  4, 28,\n",
      "        28, 28,  4,  4, 28,  4, 17,  4,  4,  4,  4,  4,  4,  4,  4,  4,  4,  4,\n",
      "        28, 28])\n"
     ]
    }
   ],
   "source": [
    "x, y = next(iter(data.test_dataloader()))\n",
    "\n",
    "logits = model(x)  # (B, C)\n",
    "print(logits.shape)\n",
    "\n",
    "preds = logits.argmax(-1)\n",
    "\n",
    "print(y, preds)\n"
   ]
  },
  {
   "cell_type": "code",
   "execution_count": 7,
   "metadata": {},
   "outputs": [
    {
     "data": {
      "image/png": "[encoded data removed]",
      "text/plain": [
       "<Figure size 648x648 with 9 Axes>"
      ]
     },
     "metadata": {
      "needs_background": "light"
     },
     "output_type": "display_data"
    }
   ],
   "source": [
    "\n",
    "fig = plt.figure(figsize=(9, 9))\n",
    "for i in range(9):\n",
    "    ax = fig.add_subplot(3, 3, i + 1)\n",
    "    rand_i = np.random.randint(len(data.data_test))\n",
    "    image, label = data.data_test[rand_i]\n",
    "\n",
    "    image_for_model = image.unsqueeze(0)  # (1, 1, 28, 28)\n",
    "    logits = model(image_for_model)  # (1, C)\n",
    "    pred_ind = logits.argmax(-1)  # (1, )\n",
    "    pred_label = data.mapping[pred_ind]\n",
    "\n",
    "    ax.imshow(image.reshape(28, 28), cmap='gray')\n",
    "    ax.set_title(f'Correct: {data.mapping[label]}, Pred: {pred_label}')\n"
   ]
  },
  {
   "cell_type": "code",
   "execution_count": null,
   "metadata": {},
   "outputs": [],
   "source": []
  }
 ],
 "metadata": {
  "kernelspec": {
   "display_name": "Python 3",
   "language": "python",
   "name": "python3"
  },
  "language_info": {
   "codemirror_mode": {
    "name": "ipython",
    "version": 3
   },
   "file_extension": ".py",
   "mimetype": "text/x-python",
   "name": "python",
   "nbconvert_exporter": "python",
   "pygments_lexer": "ipython3",
   "version": "3.6.12"
  }
 },
 "nbformat": 4,
 "nbformat_minor": 4
}
